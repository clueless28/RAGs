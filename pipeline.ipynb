{
 "cells": [
  {
   "cell_type": "code",
   "execution_count": 47,
   "metadata": {},
   "outputs": [
    {
     "name": "stderr",
     "output_type": "stream",
     "text": [
      "huggingface/tokenizers: The current process just got forked, after parallelism has already been used. Disabling parallelism to avoid deadlocks...\n",
      "To disable this warning, you can either:\n",
      "\t- Avoid using `tokenizers` before the fork if possible\n",
      "\t- Explicitly set the environment variable TOKENIZERS_PARALLELISM=(true | false)\n"
     ]
    },
    {
     "name": "stdout",
     "output_type": "stream",
     "text": [
      "Requirement already satisfied: langchain_community in /home/drovco/miniconda3/envs/fusion/lib/python3.12/site-packages (0.3.9)\n",
      "Requirement already satisfied: tiktoken in /home/drovco/miniconda3/envs/fusion/lib/python3.12/site-packages (0.8.0)\n",
      "Requirement already satisfied: langchain-openai in /home/drovco/miniconda3/envs/fusion/lib/python3.12/site-packages (0.2.10)\n",
      "Requirement already satisfied: langchainhub in /home/drovco/miniconda3/envs/fusion/lib/python3.12/site-packages (0.1.21)\n",
      "Requirement already satisfied: chromadb in /home/drovco/miniconda3/envs/fusion/lib/python3.12/site-packages (0.5.21)\n",
      "Requirement already satisfied: langchain in /home/drovco/miniconda3/envs/fusion/lib/python3.12/site-packages (0.3.9)\n",
      "Requirement already satisfied: sentence-transformers in /home/drovco/miniconda3/envs/fusion/lib/python3.12/site-packages (3.3.1)\n",
      "Requirement already satisfied: PyYAML>=5.3 in /home/drovco/miniconda3/envs/fusion/lib/python3.12/site-packages (from langchain_community) (6.0.1)\n",
      "Requirement already satisfied: SQLAlchemy<3,>=1.4 in /home/drovco/miniconda3/envs/fusion/lib/python3.12/site-packages (from langchain_community) (2.0.36)\n",
      "Requirement already satisfied: aiohttp<4.0.0,>=3.8.3 in /home/drovco/miniconda3/envs/fusion/lib/python3.12/site-packages (from langchain_community) (3.11.9)\n",
      "Requirement already satisfied: dataclasses-json<0.7,>=0.5.7 in /home/drovco/miniconda3/envs/fusion/lib/python3.12/site-packages (from langchain_community) (0.6.7)\n",
      "Requirement already satisfied: httpx-sse<0.5.0,>=0.4.0 in /home/drovco/miniconda3/envs/fusion/lib/python3.12/site-packages (from langchain_community) (0.4.0)\n",
      "Requirement already satisfied: langchain-core<0.4.0,>=0.3.21 in /home/drovco/miniconda3/envs/fusion/lib/python3.12/site-packages (from langchain_community) (0.3.21)\n",
      "Requirement already satisfied: langsmith<0.2.0,>=0.1.125 in /home/drovco/miniconda3/envs/fusion/lib/python3.12/site-packages (from langchain_community) (0.1.147)\n",
      "Requirement already satisfied: numpy<3,>=1.26.2 in /home/drovco/miniconda3/envs/fusion/lib/python3.12/site-packages (from langchain_community) (1.26.4)\n",
      "Requirement already satisfied: pydantic-settings<3.0.0,>=2.4.0 in /home/drovco/miniconda3/envs/fusion/lib/python3.12/site-packages (from langchain_community) (2.6.1)\n",
      "Requirement already satisfied: requests<3,>=2 in /home/drovco/miniconda3/envs/fusion/lib/python3.12/site-packages (from langchain_community) (2.32.2)\n",
      "Requirement already satisfied: tenacity!=8.4.0,<10,>=8.1.0 in /home/drovco/miniconda3/envs/fusion/lib/python3.12/site-packages (from langchain_community) (9.0.0)\n",
      "Requirement already satisfied: regex>=2022.1.18 in /home/drovco/miniconda3/envs/fusion/lib/python3.12/site-packages (from tiktoken) (2024.11.6)\n",
      "Requirement already satisfied: openai<2.0.0,>=1.54.0 in /home/drovco/miniconda3/envs/fusion/lib/python3.12/site-packages (from langchain-openai) (1.55.3)\n",
      "Requirement already satisfied: packaging<25,>=23.2 in /home/drovco/miniconda3/envs/fusion/lib/python3.12/site-packages (from langchainhub) (24.1)\n",
      "Requirement already satisfied: types-requests<3.0.0.0,>=2.31.0.2 in /home/drovco/miniconda3/envs/fusion/lib/python3.12/site-packages (from langchainhub) (2.32.0.20241016)\n",
      "Requirement already satisfied: build>=1.0.3 in /home/drovco/miniconda3/envs/fusion/lib/python3.12/site-packages (from chromadb) (1.2.2.post1)\n",
      "Requirement already satisfied: pydantic>=1.9 in /home/drovco/miniconda3/envs/fusion/lib/python3.12/site-packages (from chromadb) (2.10.2)\n",
      "Requirement already satisfied: chroma-hnswlib==0.7.6 in /home/drovco/miniconda3/envs/fusion/lib/python3.12/site-packages (from chromadb) (0.7.6)\n",
      "Requirement already satisfied: fastapi>=0.95.2 in /home/drovco/miniconda3/envs/fusion/lib/python3.12/site-packages (from chromadb) (0.115.5)\n",
      "Requirement already satisfied: uvicorn>=0.18.3 in /home/drovco/miniconda3/envs/fusion/lib/python3.12/site-packages (from uvicorn[standard]>=0.18.3->chromadb) (0.32.1)\n",
      "Requirement already satisfied: posthog>=2.4.0 in /home/drovco/miniconda3/envs/fusion/lib/python3.12/site-packages (from chromadb) (3.7.4)\n",
      "Requirement already satisfied: typing_extensions>=4.5.0 in /home/drovco/miniconda3/envs/fusion/lib/python3.12/site-packages (from chromadb) (4.12.2)\n",
      "Requirement already satisfied: onnxruntime>=1.14.1 in /home/drovco/miniconda3/envs/fusion/lib/python3.12/site-packages (from chromadb) (1.20.1)\n",
      "Requirement already satisfied: opentelemetry-api>=1.2.0 in /home/drovco/miniconda3/envs/fusion/lib/python3.12/site-packages (from chromadb) (1.28.2)\n",
      "Requirement already satisfied: opentelemetry-exporter-otlp-proto-grpc>=1.2.0 in /home/drovco/miniconda3/envs/fusion/lib/python3.12/site-packages (from chromadb) (1.28.2)\n",
      "Requirement already satisfied: opentelemetry-instrumentation-fastapi>=0.41b0 in /home/drovco/miniconda3/envs/fusion/lib/python3.12/site-packages (from chromadb) (0.49b2)\n",
      "Requirement already satisfied: opentelemetry-sdk>=1.2.0 in /home/drovco/miniconda3/envs/fusion/lib/python3.12/site-packages (from chromadb) (1.28.2)\n",
      "Requirement already satisfied: tokenizers<=0.20.3,>=0.13.2 in /home/drovco/miniconda3/envs/fusion/lib/python3.12/site-packages (from chromadb) (0.20.3)\n",
      "Requirement already satisfied: pypika>=0.48.9 in /home/drovco/miniconda3/envs/fusion/lib/python3.12/site-packages (from chromadb) (0.48.9)\n",
      "Requirement already satisfied: tqdm>=4.65.0 in /home/drovco/miniconda3/envs/fusion/lib/python3.12/site-packages (from chromadb) (4.66.4)\n",
      "Requirement already satisfied: overrides>=7.3.1 in /home/drovco/miniconda3/envs/fusion/lib/python3.12/site-packages (from chromadb) (7.7.0)\n",
      "Requirement already satisfied: importlib-resources in /home/drovco/miniconda3/envs/fusion/lib/python3.12/site-packages (from chromadb) (6.4.5)\n",
      "Requirement already satisfied: grpcio>=1.58.0 in /home/drovco/miniconda3/envs/fusion/lib/python3.12/site-packages (from chromadb) (1.68.1)\n",
      "Requirement already satisfied: bcrypt>=4.0.1 in /home/drovco/miniconda3/envs/fusion/lib/python3.12/site-packages (from chromadb) (4.2.1)\n",
      "Requirement already satisfied: typer>=0.9.0 in /home/drovco/miniconda3/envs/fusion/lib/python3.12/site-packages (from chromadb) (0.14.0)\n",
      "Requirement already satisfied: kubernetes>=28.1.0 in /home/drovco/miniconda3/envs/fusion/lib/python3.12/site-packages (from chromadb) (31.0.0)\n",
      "Requirement already satisfied: mmh3>=4.0.1 in /home/drovco/miniconda3/envs/fusion/lib/python3.12/site-packages (from chromadb) (5.0.1)\n",
      "Requirement already satisfied: orjson>=3.9.12 in /home/drovco/miniconda3/envs/fusion/lib/python3.12/site-packages (from chromadb) (3.10.12)\n",
      "Requirement already satisfied: httpx>=0.27.0 in /home/drovco/miniconda3/envs/fusion/lib/python3.12/site-packages (from chromadb) (0.27.0)\n",
      "Requirement already satisfied: rich>=10.11.0 in /home/drovco/miniconda3/envs/fusion/lib/python3.12/site-packages (from chromadb) (13.9.4)\n",
      "Requirement already satisfied: langchain-text-splitters<0.4.0,>=0.3.0 in /home/drovco/miniconda3/envs/fusion/lib/python3.12/site-packages (from langchain) (0.3.2)\n",
      "Requirement already satisfied: transformers<5.0.0,>=4.41.0 in /home/drovco/miniconda3/envs/fusion/lib/python3.12/site-packages (from sentence-transformers) (4.46.3)\n",
      "Requirement already satisfied: torch>=1.11.0 in /home/drovco/miniconda3/envs/fusion/lib/python3.12/site-packages (from sentence-transformers) (2.3.1)\n",
      "Requirement already satisfied: scikit-learn in /home/drovco/miniconda3/envs/fusion/lib/python3.12/site-packages (from sentence-transformers) (1.5.1)\n",
      "Requirement already satisfied: scipy in /home/drovco/miniconda3/envs/fusion/lib/python3.12/site-packages (from sentence-transformers) (1.14.0)\n",
      "Requirement already satisfied: huggingface-hub>=0.20.0 in /home/drovco/miniconda3/envs/fusion/lib/python3.12/site-packages (from sentence-transformers) (0.24.0)\n",
      "Requirement already satisfied: Pillow in /home/drovco/miniconda3/envs/fusion/lib/python3.12/site-packages (from sentence-transformers) (10.4.0)\n",
      "Requirement already satisfied: aiohappyeyeballs>=2.3.0 in /home/drovco/miniconda3/envs/fusion/lib/python3.12/site-packages (from aiohttp<4.0.0,>=3.8.3->langchain_community) (2.4.4)\n",
      "Requirement already satisfied: aiosignal>=1.1.2 in /home/drovco/miniconda3/envs/fusion/lib/python3.12/site-packages (from aiohttp<4.0.0,>=3.8.3->langchain_community) (1.3.1)\n",
      "Requirement already satisfied: attrs>=17.3.0 in /home/drovco/miniconda3/envs/fusion/lib/python3.12/site-packages (from aiohttp<4.0.0,>=3.8.3->langchain_community) (23.2.0)\n",
      "Requirement already satisfied: frozenlist>=1.1.1 in /home/drovco/miniconda3/envs/fusion/lib/python3.12/site-packages (from aiohttp<4.0.0,>=3.8.3->langchain_community) (1.5.0)\n",
      "Requirement already satisfied: multidict<7.0,>=4.5 in /home/drovco/miniconda3/envs/fusion/lib/python3.12/site-packages (from aiohttp<4.0.0,>=3.8.3->langchain_community) (6.1.0)\n",
      "Requirement already satisfied: propcache>=0.2.0 in /home/drovco/miniconda3/envs/fusion/lib/python3.12/site-packages (from aiohttp<4.0.0,>=3.8.3->langchain_community) (0.2.1)\n",
      "Requirement already satisfied: yarl<2.0,>=1.17.0 in /home/drovco/miniconda3/envs/fusion/lib/python3.12/site-packages (from aiohttp<4.0.0,>=3.8.3->langchain_community) (1.18.3)\n",
      "Requirement already satisfied: pyproject_hooks in /home/drovco/miniconda3/envs/fusion/lib/python3.12/site-packages (from build>=1.0.3->chromadb) (1.2.0)\n",
      "Requirement already satisfied: marshmallow<4.0.0,>=3.18.0 in /home/drovco/miniconda3/envs/fusion/lib/python3.12/site-packages (from dataclasses-json<0.7,>=0.5.7->langchain_community) (3.23.1)\n",
      "Requirement already satisfied: typing-inspect<1,>=0.4.0 in /home/drovco/miniconda3/envs/fusion/lib/python3.12/site-packages (from dataclasses-json<0.7,>=0.5.7->langchain_community) (0.9.0)\n",
      "Requirement already satisfied: starlette<0.42.0,>=0.40.0 in /home/drovco/miniconda3/envs/fusion/lib/python3.12/site-packages (from fastapi>=0.95.2->chromadb) (0.41.3)\n",
      "Requirement already satisfied: anyio in /home/drovco/miniconda3/envs/fusion/lib/python3.12/site-packages (from httpx>=0.27.0->chromadb) (4.4.0)\n",
      "Requirement already satisfied: certifi in /home/drovco/miniconda3/envs/fusion/lib/python3.12/site-packages (from httpx>=0.27.0->chromadb) (2024.7.4)\n",
      "Requirement already satisfied: httpcore==1.* in /home/drovco/miniconda3/envs/fusion/lib/python3.12/site-packages (from httpx>=0.27.0->chromadb) (1.0.5)\n",
      "Requirement already satisfied: idna in /home/drovco/miniconda3/envs/fusion/lib/python3.12/site-packages (from httpx>=0.27.0->chromadb) (3.7)\n",
      "Requirement already satisfied: sniffio in /home/drovco/miniconda3/envs/fusion/lib/python3.12/site-packages (from httpx>=0.27.0->chromadb) (1.3.1)\n",
      "Requirement already satisfied: h11<0.15,>=0.13 in /home/drovco/miniconda3/envs/fusion/lib/python3.12/site-packages (from httpcore==1.*->httpx>=0.27.0->chromadb) (0.14.0)\n",
      "Requirement already satisfied: filelock in /home/drovco/miniconda3/envs/fusion/lib/python3.12/site-packages (from huggingface-hub>=0.20.0->sentence-transformers) (3.13.1)\n",
      "Requirement already satisfied: fsspec>=2023.5.0 in /home/drovco/miniconda3/envs/fusion/lib/python3.12/site-packages (from huggingface-hub>=0.20.0->sentence-transformers) (2024.6.1)\n",
      "Requirement already satisfied: six>=1.9.0 in /home/drovco/miniconda3/envs/fusion/lib/python3.12/site-packages (from kubernetes>=28.1.0->chromadb) (1.16.0)\n",
      "Requirement already satisfied: python-dateutil>=2.5.3 in /home/drovco/miniconda3/envs/fusion/lib/python3.12/site-packages (from kubernetes>=28.1.0->chromadb) (2.9.0.post0)\n",
      "Requirement already satisfied: google-auth>=1.0.1 in /home/drovco/miniconda3/envs/fusion/lib/python3.12/site-packages (from kubernetes>=28.1.0->chromadb) (2.36.0)\n",
      "Requirement already satisfied: websocket-client!=0.40.0,!=0.41.*,!=0.42.*,>=0.32.0 in /home/drovco/miniconda3/envs/fusion/lib/python3.12/site-packages (from kubernetes>=28.1.0->chromadb) (1.8.0)\n",
      "Requirement already satisfied: requests-oauthlib in /home/drovco/miniconda3/envs/fusion/lib/python3.12/site-packages (from kubernetes>=28.1.0->chromadb) (2.0.0)\n",
      "Requirement already satisfied: oauthlib>=3.2.2 in /home/drovco/miniconda3/envs/fusion/lib/python3.12/site-packages (from kubernetes>=28.1.0->chromadb) (3.2.2)\n",
      "Requirement already satisfied: urllib3>=1.24.2 in /home/drovco/miniconda3/envs/fusion/lib/python3.12/site-packages (from kubernetes>=28.1.0->chromadb) (2.2.2)\n",
      "Requirement already satisfied: durationpy>=0.7 in /home/drovco/miniconda3/envs/fusion/lib/python3.12/site-packages (from kubernetes>=28.1.0->chromadb) (0.9)\n",
      "Requirement already satisfied: jsonpatch<2.0,>=1.33 in /home/drovco/miniconda3/envs/fusion/lib/python3.12/site-packages (from langchain-core<0.4.0,>=0.3.21->langchain_community) (1.33)\n",
      "Requirement already satisfied: requests-toolbelt<2.0.0,>=1.0.0 in /home/drovco/miniconda3/envs/fusion/lib/python3.12/site-packages (from langsmith<0.2.0,>=0.1.125->langchain_community) (1.0.0)\n",
      "Requirement already satisfied: coloredlogs in /home/drovco/miniconda3/envs/fusion/lib/python3.12/site-packages (from onnxruntime>=1.14.1->chromadb) (15.0.1)\n",
      "Requirement already satisfied: flatbuffers in /home/drovco/miniconda3/envs/fusion/lib/python3.12/site-packages (from onnxruntime>=1.14.1->chromadb) (24.3.25)\n",
      "Requirement already satisfied: protobuf in /home/drovco/miniconda3/envs/fusion/lib/python3.12/site-packages (from onnxruntime>=1.14.1->chromadb) (5.29.0)\n",
      "Requirement already satisfied: sympy in /home/drovco/miniconda3/envs/fusion/lib/python3.12/site-packages (from onnxruntime>=1.14.1->chromadb) (1.12)\n",
      "Requirement already satisfied: distro<2,>=1.7.0 in /home/drovco/miniconda3/envs/fusion/lib/python3.12/site-packages (from openai<2.0.0,>=1.54.0->langchain-openai) (1.9.0)\n",
      "Requirement already satisfied: jiter<1,>=0.4.0 in /home/drovco/miniconda3/envs/fusion/lib/python3.12/site-packages (from openai<2.0.0,>=1.54.0->langchain-openai) (0.8.0)\n",
      "Requirement already satisfied: deprecated>=1.2.6 in /home/drovco/miniconda3/envs/fusion/lib/python3.12/site-packages (from opentelemetry-api>=1.2.0->chromadb) (1.2.15)\n",
      "Requirement already satisfied: importlib-metadata<=8.5.0,>=6.0 in /home/drovco/miniconda3/envs/fusion/lib/python3.12/site-packages (from opentelemetry-api>=1.2.0->chromadb) (8.5.0)\n",
      "Requirement already satisfied: googleapis-common-protos~=1.52 in /home/drovco/miniconda3/envs/fusion/lib/python3.12/site-packages (from opentelemetry-exporter-otlp-proto-grpc>=1.2.0->chromadb) (1.66.0)\n",
      "Requirement already satisfied: opentelemetry-exporter-otlp-proto-common==1.28.2 in /home/drovco/miniconda3/envs/fusion/lib/python3.12/site-packages (from opentelemetry-exporter-otlp-proto-grpc>=1.2.0->chromadb) (1.28.2)\n",
      "Requirement already satisfied: opentelemetry-proto==1.28.2 in /home/drovco/miniconda3/envs/fusion/lib/python3.12/site-packages (from opentelemetry-exporter-otlp-proto-grpc>=1.2.0->chromadb) (1.28.2)\n",
      "Requirement already satisfied: opentelemetry-instrumentation-asgi==0.49b2 in /home/drovco/miniconda3/envs/fusion/lib/python3.12/site-packages (from opentelemetry-instrumentation-fastapi>=0.41b0->chromadb) (0.49b2)\n",
      "Requirement already satisfied: opentelemetry-instrumentation==0.49b2 in /home/drovco/miniconda3/envs/fusion/lib/python3.12/site-packages (from opentelemetry-instrumentation-fastapi>=0.41b0->chromadb) (0.49b2)\n",
      "Requirement already satisfied: opentelemetry-semantic-conventions==0.49b2 in /home/drovco/miniconda3/envs/fusion/lib/python3.12/site-packages (from opentelemetry-instrumentation-fastapi>=0.41b0->chromadb) (0.49b2)\n",
      "Requirement already satisfied: opentelemetry-util-http==0.49b2 in /home/drovco/miniconda3/envs/fusion/lib/python3.12/site-packages (from opentelemetry-instrumentation-fastapi>=0.41b0->chromadb) (0.49b2)\n",
      "Requirement already satisfied: wrapt<2.0.0,>=1.0.0 in /home/drovco/miniconda3/envs/fusion/lib/python3.12/site-packages (from opentelemetry-instrumentation==0.49b2->opentelemetry-instrumentation-fastapi>=0.41b0->chromadb) (1.17.0)\n",
      "Requirement already satisfied: asgiref~=3.0 in /home/drovco/miniconda3/envs/fusion/lib/python3.12/site-packages (from opentelemetry-instrumentation-asgi==0.49b2->opentelemetry-instrumentation-fastapi>=0.41b0->chromadb) (3.8.1)\n",
      "Requirement already satisfied: monotonic>=1.5 in /home/drovco/miniconda3/envs/fusion/lib/python3.12/site-packages (from posthog>=2.4.0->chromadb) (1.6)\n",
      "Requirement already satisfied: backoff>=1.10.0 in /home/drovco/miniconda3/envs/fusion/lib/python3.12/site-packages (from posthog>=2.4.0->chromadb) (2.2.1)\n",
      "Requirement already satisfied: annotated-types>=0.6.0 in /home/drovco/miniconda3/envs/fusion/lib/python3.12/site-packages (from pydantic>=1.9->chromadb) (0.7.0)\n",
      "Requirement already satisfied: pydantic-core==2.27.1 in /home/drovco/miniconda3/envs/fusion/lib/python3.12/site-packages (from pydantic>=1.9->chromadb) (2.27.1)\n",
      "Requirement already satisfied: python-dotenv>=0.21.0 in /home/drovco/miniconda3/envs/fusion/lib/python3.12/site-packages (from pydantic-settings<3.0.0,>=2.4.0->langchain_community) (1.0.1)\n",
      "Requirement already satisfied: charset-normalizer<4,>=2 in /home/drovco/miniconda3/envs/fusion/lib/python3.12/site-packages (from requests<3,>=2->langchain_community) (2.0.4)\n",
      "Requirement already satisfied: markdown-it-py>=2.2.0 in /home/drovco/miniconda3/envs/fusion/lib/python3.12/site-packages (from rich>=10.11.0->chromadb) (3.0.0)\n",
      "Requirement already satisfied: pygments<3.0.0,>=2.13.0 in /home/drovco/miniconda3/envs/fusion/lib/python3.12/site-packages (from rich>=10.11.0->chromadb) (2.18.0)\n",
      "Requirement already satisfied: greenlet!=0.4.17 in /home/drovco/miniconda3/envs/fusion/lib/python3.12/site-packages (from SQLAlchemy<3,>=1.4->langchain_community) (3.1.1)\n",
      "Requirement already satisfied: networkx in /home/drovco/miniconda3/envs/fusion/lib/python3.12/site-packages (from torch>=1.11.0->sentence-transformers) (3.3)\n",
      "Requirement already satisfied: jinja2 in /home/drovco/miniconda3/envs/fusion/lib/python3.12/site-packages (from torch>=1.11.0->sentence-transformers) (3.1.4)\n",
      "Requirement already satisfied: safetensors>=0.4.1 in /home/drovco/miniconda3/envs/fusion/lib/python3.12/site-packages (from transformers<5.0.0,>=4.41.0->sentence-transformers) (0.4.3)\n",
      "Requirement already satisfied: click>=8.0.0 in /home/drovco/miniconda3/envs/fusion/lib/python3.12/site-packages (from typer>=0.9.0->chromadb) (8.1.7)\n",
      "Requirement already satisfied: shellingham>=1.3.0 in /home/drovco/miniconda3/envs/fusion/lib/python3.12/site-packages (from typer>=0.9.0->chromadb) (1.5.4)\n",
      "Requirement already satisfied: httptools>=0.6.3 in /home/drovco/miniconda3/envs/fusion/lib/python3.12/site-packages (from uvicorn[standard]>=0.18.3->chromadb) (0.6.4)\n",
      "Requirement already satisfied: uvloop!=0.15.0,!=0.15.1,>=0.14.0 in /home/drovco/miniconda3/envs/fusion/lib/python3.12/site-packages (from uvicorn[standard]>=0.18.3->chromadb) (0.21.0)\n",
      "Requirement already satisfied: watchfiles>=0.13 in /home/drovco/miniconda3/envs/fusion/lib/python3.12/site-packages (from uvicorn[standard]>=0.18.3->chromadb) (1.0.0)\n",
      "Requirement already satisfied: websockets>=10.4 in /home/drovco/miniconda3/envs/fusion/lib/python3.12/site-packages (from uvicorn[standard]>=0.18.3->chromadb) (14.1)\n",
      "Requirement already satisfied: joblib>=1.2.0 in /home/drovco/miniconda3/envs/fusion/lib/python3.12/site-packages (from scikit-learn->sentence-transformers) (1.4.2)\n",
      "Requirement already satisfied: threadpoolctl>=3.1.0 in /home/drovco/miniconda3/envs/fusion/lib/python3.12/site-packages (from scikit-learn->sentence-transformers) (3.5.0)\n",
      "Requirement already satisfied: cachetools<6.0,>=2.0.0 in /home/drovco/miniconda3/envs/fusion/lib/python3.12/site-packages (from google-auth>=1.0.1->kubernetes>=28.1.0->chromadb) (5.5.0)\n",
      "Requirement already satisfied: pyasn1-modules>=0.2.1 in /home/drovco/miniconda3/envs/fusion/lib/python3.12/site-packages (from google-auth>=1.0.1->kubernetes>=28.1.0->chromadb) (0.4.1)\n",
      "Requirement already satisfied: rsa<5,>=3.1.4 in /home/drovco/miniconda3/envs/fusion/lib/python3.12/site-packages (from google-auth>=1.0.1->kubernetes>=28.1.0->chromadb) (4.9)\n",
      "Requirement already satisfied: zipp>=3.20 in /home/drovco/miniconda3/envs/fusion/lib/python3.12/site-packages (from importlib-metadata<=8.5.0,>=6.0->opentelemetry-api>=1.2.0->chromadb) (3.21.0)\n",
      "Requirement already satisfied: jsonpointer>=1.9 in /home/drovco/miniconda3/envs/fusion/lib/python3.12/site-packages (from jsonpatch<2.0,>=1.33->langchain-core<0.4.0,>=0.3.21->langchain_community) (3.0.0)\n",
      "Requirement already satisfied: mdurl~=0.1 in /home/drovco/miniconda3/envs/fusion/lib/python3.12/site-packages (from markdown-it-py>=2.2.0->rich>=10.11.0->chromadb) (0.1.2)\n",
      "Requirement already satisfied: mypy-extensions>=0.3.0 in /home/drovco/miniconda3/envs/fusion/lib/python3.12/site-packages (from typing-inspect<1,>=0.4.0->dataclasses-json<0.7,>=0.5.7->langchain_community) (1.0.0)\n",
      "Requirement already satisfied: humanfriendly>=9.1 in /home/drovco/miniconda3/envs/fusion/lib/python3.12/site-packages (from coloredlogs->onnxruntime>=1.14.1->chromadb) (10.0)\n",
      "Requirement already satisfied: MarkupSafe>=2.0 in /home/drovco/miniconda3/envs/fusion/lib/python3.12/site-packages (from jinja2->torch>=1.11.0->sentence-transformers) (2.1.3)\n",
      "Requirement already satisfied: mpmath>=0.19 in /home/drovco/miniconda3/envs/fusion/lib/python3.12/site-packages (from sympy->onnxruntime>=1.14.1->chromadb) (1.3.0)\n",
      "Requirement already satisfied: pyasn1<0.7.0,>=0.4.6 in /home/drovco/miniconda3/envs/fusion/lib/python3.12/site-packages (from pyasn1-modules>=0.2.1->google-auth>=1.0.1->kubernetes>=28.1.0->chromadb) (0.6.1)\n"
     ]
    }
   ],
   "source": [
    "!pip install langchain_community tiktoken langchain-openai langchainhub chromadb langchain langchain chromadb sentence-transformers"
   ]
  },
  {
   "cell_type": "markdown",
   "metadata": {},
   "source": []
  },
  {
   "cell_type": "code",
   "execution_count": null,
   "metadata": {},
   "outputs": [],
   "source": []
  },
  {
   "cell_type": "code",
   "execution_count": 1,
   "metadata": {},
   "outputs": [],
   "source": [
    "LANGCHAIN_TRACING_V2='true'\n",
    "LANGCHAIN_ENDPOINT=\"https://api.smith.langchain.com\"\n",
    "LANGCHAIN_API_KEY=\"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\"\n",
    "LANGCHAIN_PROJECT=\"pr-smug-lung-72\""
   ]
  },
  {
   "cell_type": "code",
   "execution_count": 2,
   "metadata": {},
   "outputs": [
    {
     "name": "stderr",
     "output_type": "stream",
     "text": [
      "USER_AGENT environment variable not set, consider setting it to identify your requests.\n"
     ]
    },
    {
     "name": "stdout",
     "output_type": "stream",
     "text": [
      "Loaded 1 documents\n",
      "Raw Document 0:\n",
      "\n",
      "\n",
      "      LLM Powered Autonomous Agents\n",
      "    \n",
      "Date: June 23, 2023  |  Estimated Reading Time: 31 min  |  Author: Lilian Weng\n",
      "\n",
      "\n",
      "Building agents with LLM (large language model) as its core controller is a cool concept. Several proof-of-concepts demos, such as AutoGPT, GPT-Engineer and BabyAGI, serve as inspiring examples. The potentiality of LLM extends beyond generating well-written copies, stories, essays and programs; it can be framed as a powerful general problem solver.\n",
      "Agent System Overview#\n",
      "In...\n",
      "\n",
      "Cleaned Document 0:\n",
      " (large language model) as its core controller is a cool concept. Several proof-of-concepts demos, such as AutoGPT, GPT-Engineer and BabyAGI, serve as inspiring examples. The potentiality of LLM extends beyond generating well-written copies, stories, essays and programs; it can be framed as a powerful general problem solver.\n",
      "Agent System Overview#\n",
      "In a LLM-powered autonomous agent system, LLM functions as the agent’s brain, complemented by several key components:\n",
      "\n",
      "Planning\n",
      "\n",
      "Subgoal and decomposi...\n",
      "\n",
      "Total document splits: 66\n",
      "Total valid document splits: 66\n",
      "Document chunk 0:\n",
      "(large language model) as its core controller is a cool concept. Several proof-of-concepts demos, such as AutoGPT, GPT-Engineer and BabyAGI, serve as inspiring examples. The potentiality of LLM extend...\n",
      "\n",
      "Document chunk 1:\n",
      "Memory\n",
      "\n",
      "Short-term memory: I would consider all the in-context learning (See Prompt Engineering) as utilizing short-term memory of the model to learn.\n",
      "Long-term memory: This provides the agent with th...\n",
      "\n",
      "Document chunk 2:\n",
      "Fig. 1. Overview of a LLM-powered autonomous agent system.\n",
      "Component One: Planning#\n",
      "A complicated task usually involves many steps. An agent needs to know what they are and plan ahead.\n",
      "Task Decomposit...\n",
      "\n"
     ]
    }
   ],
   "source": [
    "from langchain.document_loaders import WebBaseLoader\n",
    "from langchain.text_splitter import RecursiveCharacterTextSplitter\n",
    "from langchain.schema import Document\n",
    "import bs4\n",
    "\n",
    "# Load Documents\n",
    "loader = WebBaseLoader(\n",
    "    web_paths=(\"https://lilianweng.github.io/posts/2023-06-23-agent/\",),\n",
    "    bs_kwargs=dict(\n",
    "        parse_only=bs4.SoupStrainer(\n",
    "            class_=(\"post-content\", \"post-title\", \"post-header\")\n",
    "        )\n",
    "    ),\n",
    ")\n",
    "\n",
    "# Load documents\n",
    "docs = loader.load()\n",
    "\n",
    "if docs:\n",
    "    print(f\"Loaded {len(docs)} documents\")\n",
    "    \n",
    "    # Preview raw document content\n",
    "    for i, doc in enumerate(docs[:1]):  # Preview the first document\n",
    "        print(f\"Raw Document {i}:\\n{doc.page_content[:500]}...\\n\")\n",
    "    \n",
    "    # Safely clean the document content\n",
    "    for doc in docs:\n",
    "        # Check if content contains the target phrase for splitting\n",
    "        if \"Building agents with LLM\" in doc.page_content:\n",
    "            doc.page_content = doc.page_content.split(\"Building agents with LLM\", 1)[-1]\n",
    "        else:\n",
    "            print(\"Warning: Target phrase not found. Keeping raw content.\")\n",
    "    \n",
    "    # Preview cleaned content\n",
    "    for i, doc in enumerate(docs[:1]):  # Preview the first cleaned document\n",
    "        print(f\"Cleaned Document {i}:\\n{doc.page_content[:500]}...\\n\")\n",
    "    \n",
    "    # Split the documents into chunks\n",
    "    text_splitter = RecursiveCharacterTextSplitter(chunk_size=1000, chunk_overlap=200)\n",
    "    splits = text_splitter.split_documents(docs)\n",
    "    \n",
    "    print(f\"Total document splits: {len(splits)}\")\n",
    "    \n",
    "    # Convert splits to valid documents\n",
    "    valid_documents = [\n",
    "        Document(page_content=split.page_content, metadata=split.metadata) \n",
    "        for split in splits if split.page_content.strip()  # Ensure non-empty content\n",
    "    ]\n",
    "    \n",
    "    print(f\"Total valid document splits: {len(valid_documents)}\")\n",
    "    for i, doc in enumerate(valid_documents[:3]):  # Preview the first 3 valid splits\n",
    "        print(f\"Document chunk {i}:\\n{doc.page_content[:200]}...\\n\")\n",
    "else:\n",
    "    print(\"No documents were loaded. Please check the webpage or selector.\")\n"
   ]
  },
  {
   "cell_type": "code",
   "execution_count": 3,
   "metadata": {},
   "outputs": [
    {
     "name": "stderr",
     "output_type": "stream",
     "text": [
      "/home/drovco/miniconda3/envs/fusion/lib/python3.12/site-packages/tqdm/auto.py:21: TqdmWarning: IProgress not found. Please update jupyter and ipywidgets. See https://ipywidgets.readthedocs.io/en/stable/user_install.html\n",
      "  from .autonotebook import tqdm as notebook_tqdm\n",
      "/tmp/ipykernel_1312611/1748165121.py:7: LangChainDeprecationWarning: The class `HuggingFaceEmbeddings` was deprecated in LangChain 0.2.2 and will be removed in 1.0. An updated version of the class exists in the :class:`~langchain-huggingface package and should be used instead. To use it run `pip install -U :class:`~langchain-huggingface` and import as `from :class:`~langchain_huggingface import HuggingFaceEmbeddings``.\n",
      "  embedding_model = HuggingFaceEmbeddings(model_name=\"all-MiniLM-L6-v2\")\n"
     ]
    },
    {
     "name": "stdout",
     "output_type": "stream",
     "text": [
      "Vector store created successfully!\n"
     ]
    }
   ],
   "source": [
    "from sentence_transformers import SentenceTransformer\n",
    "from langchain.embeddings import HuggingFaceEmbeddings\n",
    "from langchain.vectorstores import Chroma\n",
    "from langchain.schema import Document\n",
    "\n",
    "# Load embedding model\n",
    "embedding_model = HuggingFaceEmbeddings(model_name=\"all-MiniLM-L6-v2\")\n",
    "\n",
    "# Pass valid_documents (a list of LangChain Document objects) to Chroma\n",
    "vectorstore = Chroma.from_documents(\n",
    "    documents=valid_documents,  # List of Document objects\n",
    "    embedding=embedding_model  # Pass the HuggingFaceEmbeddings object\n",
    ")\n",
    "\n",
    "print(\"Vector store created successfully!\")\n"
   ]
  },
  {
   "cell_type": "code",
   "execution_count": 4,
   "metadata": {},
   "outputs": [
    {
     "name": "stdout",
     "output_type": "stream",
     "text": [
      "Result 1:\n",
      "Content: Fig. 1. Overview of a LLM-powered autonomous agent system.\n",
      "Component One: Planning#\n",
      "A complicated task usually involves many steps. An agent needs to know what they are and plan ahead.\n",
      "Task Decomposit\n",
      "Metadata: {'source': 'https://lilianweng.github.io/posts/2023-06-23-agent/'}\n",
      "Score: 0.6767662763595581\n",
      "--------------------------------------------------\n",
      "Result 2:\n",
      "Content: (large language model) as its core controller is a cool concept. Several proof-of-concepts demos, such as AutoGPT, GPT-Engineer and BabyAGI, serve as inspiring examples. The potentiality of LLM extend\n",
      "Metadata: {'source': 'https://lilianweng.github.io/posts/2023-06-23-agent/'}\n",
      "Score: 0.7238340973854065\n",
      "--------------------------------------------------\n",
      "Result 3:\n",
      "Content: They also discussed the risks, especially with illicit drugs and bioweapons. They developed a test set containing a list of known chemical weapon agents and asked the agent to synthesize them. 4 out o\n",
      "Metadata: {'source': 'https://lilianweng.github.io/posts/2023-06-23-agent/'}\n",
      "Score: 0.8205841183662415\n",
      "--------------------------------------------------\n",
      "Result 4:\n",
      "Content: }\n",
      "]\n",
      "Challenges#\n",
      "After going through key ideas and demos of building LLM-centered agents, I start to see a couple common limitations:\n",
      "Metadata: {'source': 'https://lilianweng.github.io/posts/2023-06-23-agent/'}\n",
      "Score: 0.8937163352966309\n",
      "--------------------------------------------------\n",
      "Result 5:\n",
      "Content: Reliability of natural language interface: Current agent system relies on natural language as an interface between LLMs and external components such as memory and tools. However, the reliability of mo\n",
      "Metadata: {'source': 'https://lilianweng.github.io/posts/2023-06-23-agent/'}\n",
      "Score: 0.9018167853355408\n",
      "--------------------------------------------------\n"
     ]
    }
   ],
   "source": [
    "# Example query text\n",
    "query_text = \"What are LLM-powered autonomous agents?\"\n",
    "\n",
    "# Generate an embedding for the query\n",
    "query_embedding = embedding_model.embed_query(query_text)\n",
    "\n",
    "# Perform the query on the vector store\n",
    "results = vectorstore.similarity_search_with_score(\n",
    "    query=query_text,\n",
    "    k=5  # Number of top results to return\n",
    ")\n",
    "\n",
    "# Display the results\n",
    "for idx, (doc, score) in enumerate(results):\n",
    "    print(f\"Result {idx+1}:\")\n",
    "    print(f\"Content: {doc.page_content[:200]}\")  # Preview first 200 characters\n",
    "    print(f\"Metadata: {doc.metadata}\")\n",
    "    print(f\"Score: {score}\")\n",
    "    print(\"-\" * 50)\n"
   ]
  },
  {
   "cell_type": "code",
   "execution_count": 5,
   "metadata": {},
   "outputs": [
    {
     "data": {
      "text/plain": [
       "ChatPromptTemplate(input_variables=['context', 'question'], input_types={}, partial_variables={}, messages=[HumanMessagePromptTemplate(prompt=PromptTemplate(input_variables=['context', 'question'], input_types={}, partial_variables={}, template='Answer the question based only on the following context:\\n{context}\\n\\nQuestion: {question}\\n'), additional_kwargs={})])"
      ]
     },
     "execution_count": 5,
     "metadata": {},
     "output_type": "execute_result"
    }
   ],
   "source": [
    "from langchain.prompts import ChatPromptTemplate\n",
    "\n",
    "# Prompt\n",
    "template = \"\"\"Answer the question based only on the following context:\n",
    "{context}\n",
    "\n",
    "Question: {question}\n",
    "\"\"\"\n",
    "\n",
    "prompt = ChatPromptTemplate.from_template(template)\n",
    "prompt"
   ]
  },
  {
   "cell_type": "code",
   "execution_count": 41,
   "metadata": {},
   "outputs": [
    {
     "name": "stderr",
     "output_type": "stream",
     "text": [
      "huggingface/tokenizers: The current process just got forked, after parallelism has already been used. Disabling parallelism to avoid deadlocks...\n",
      "To disable this warning, you can either:\n",
      "\t- Avoid using `tokenizers` before the fork if possible\n",
      "\t- Explicitly set the environment variable TOKENIZERS_PARALLELISM=(true | false)\n"
     ]
    },
    {
     "name": "stdout",
     "output_type": "stream",
     "text": [
      "Collecting anthropic\n",
      "  Downloading anthropic-0.40.0-py3-none-any.whl.metadata (23 kB)\n",
      "Requirement already satisfied: anyio<5,>=3.5.0 in /home/drovco/miniconda3/envs/fusion/lib/python3.12/site-packages (from anthropic) (4.4.0)\n",
      "Requirement already satisfied: distro<2,>=1.7.0 in /home/drovco/miniconda3/envs/fusion/lib/python3.12/site-packages (from anthropic) (1.9.0)\n",
      "Requirement already satisfied: httpx<1,>=0.23.0 in /home/drovco/miniconda3/envs/fusion/lib/python3.12/site-packages (from anthropic) (0.27.0)\n",
      "Requirement already satisfied: jiter<1,>=0.4.0 in /home/drovco/miniconda3/envs/fusion/lib/python3.12/site-packages (from anthropic) (0.8.0)\n",
      "Requirement already satisfied: pydantic<3,>=1.9.0 in /home/drovco/miniconda3/envs/fusion/lib/python3.12/site-packages (from anthropic) (2.10.2)\n",
      "Requirement already satisfied: sniffio in /home/drovco/miniconda3/envs/fusion/lib/python3.12/site-packages (from anthropic) (1.3.1)\n",
      "Requirement already satisfied: typing-extensions<5,>=4.7 in /home/drovco/miniconda3/envs/fusion/lib/python3.12/site-packages (from anthropic) (4.12.2)\n",
      "Requirement already satisfied: idna>=2.8 in /home/drovco/miniconda3/envs/fusion/lib/python3.12/site-packages (from anyio<5,>=3.5.0->anthropic) (3.7)\n",
      "Requirement already satisfied: certifi in /home/drovco/miniconda3/envs/fusion/lib/python3.12/site-packages (from httpx<1,>=0.23.0->anthropic) (2024.7.4)\n",
      "Requirement already satisfied: httpcore==1.* in /home/drovco/miniconda3/envs/fusion/lib/python3.12/site-packages (from httpx<1,>=0.23.0->anthropic) (1.0.5)\n",
      "Requirement already satisfied: h11<0.15,>=0.13 in /home/drovco/miniconda3/envs/fusion/lib/python3.12/site-packages (from httpcore==1.*->httpx<1,>=0.23.0->anthropic) (0.14.0)\n",
      "Requirement already satisfied: annotated-types>=0.6.0 in /home/drovco/miniconda3/envs/fusion/lib/python3.12/site-packages (from pydantic<3,>=1.9.0->anthropic) (0.7.0)\n",
      "Requirement already satisfied: pydantic-core==2.27.1 in /home/drovco/miniconda3/envs/fusion/lib/python3.12/site-packages (from pydantic<3,>=1.9.0->anthropic) (2.27.1)\n",
      "Downloading anthropic-0.40.0-py3-none-any.whl (199 kB)\n",
      "\u001b[2K   \u001b[90m━━━━━━━━━━━━━━━━━━━━━━━━━━━━━━━━━━━━━━━━\u001b[0m \u001b[32m199.5/199.5 kB\u001b[0m \u001b[31m5.9 MB/s\u001b[0m eta \u001b[36m0:00:00\u001b[0m\n",
      "\u001b[?25hInstalling collected packages: anthropic\n",
      "Successfully installed anthropic-0.40.0\n"
     ]
    }
   ],
   "source": [
    "!pip install anthropic"
   ]
  },
  {
   "cell_type": "code",
   "execution_count": 47,
   "metadata": {},
   "outputs": [
    {
     "name": "stderr",
     "output_type": "stream",
     "text": [
      "Hardware accelerator e.g. GPU is available in the environment, but no `device` argument is passed to the `Pipeline` object. Model will be on CPU.\n"
     ]
    },
    {
     "data": {
      "text/plain": [
       "ChatPromptTemplate(input_variables=['context', 'question'], input_types={}, partial_variables={}, messages=[HumanMessagePromptTemplate(prompt=PromptTemplate(input_variables=['context', 'question'], input_types={}, partial_variables={}, template='Answer the question based only on the following context:\\n{context}\\n\\nQuestion: {question}\\n'), additional_kwargs={})])"
      ]
     },
     "execution_count": 47,
     "metadata": {},
     "output_type": "execute_result"
    }
   ],
   "source": [
    "from transformers import pipeline\n",
    "\n",
    "# Load the model and tokenizer\n",
    "model = pipeline('text-generation', model='gpt2')\n",
    "\n",
    "from langchain_openai import ChatOpenAI\n",
    "from langchain.prompts import ChatPromptTemplate\n",
    "\n",
    "# Prompt\n",
    "template = \"\"\"Answer the question based only on the following context:\n",
    "{context}\n",
    "\n",
    "Question: {question}\n",
    "\"\"\"\n",
    "\n",
    "prompt = ChatPromptTemplate.from_template(template)\n",
    "prompt"
   ]
  },
  {
   "cell_type": "markdown",
   "metadata": {},
   "source": []
  },
  {
   "cell_type": "code",
   "execution_count": 48,
   "metadata": {},
   "outputs": [],
   "source": [
    "chain = prompt | model\n"
   ]
  },
  {
   "cell_type": "code",
   "execution_count": 73,
   "metadata": {},
   "outputs": [
    {
     "name": "stderr",
     "output_type": "stream",
     "text": [
      "Hardware accelerator e.g. GPU is available in the environment, but no `device` argument is passed to the `Pipeline` object. Model will be on CPU.\n",
      "Truncation was not explicitly activated but `max_length` is provided a specific value, please use `truncation=True` to explicitly truncate examples to max length. Defaulting to 'longest_first' truncation strategy. If you encode pairs of sequences (GLUE-style) with the tokenizer you can select this strategy more precisely by providing a specific strategy to `truncation`.\n"
     ]
    },
    {
     "name": "stdout",
     "output_type": "stream",
     "text": [
      "Context: Truncated documents context goes here...\n",
      "Question: What is Task Decomposition?\n",
      "Answer: Task deconposition is based on the task (s:tasks, t:Tasks). It can take either an object or its root (object, t:Tasks), or a list of tasks that are in turn ordered by its context.\n",
      "The concept is that an object gets its context before an object can have one, if the context of its root has some other properties of its type as shown in this excerpt from Heterogeneous.\n",
      "Question: What are the differences between an object and a list?\n",
      "Answer: When you try it, it is hard to see how they can be combined. Here are two examples; I want to show what is happening when you try it.\n",
      "(a) An object contains the list(s); while the process of deconstructing a list does not, it can still be viewed as taking time and time to decompress itself by some other time point. This has to do with how it is represented in an HUnit file. If you want to use a list for the rest of your task, then the same process, that has a different order of traversals, in some sense, is the whole process. The HUnit itself is actually like the file in a HUnit, it is like a simple H-unit with no other Hs. (b) An object contains the list(s) while it is using these tasks, the process of deconstructing an object does not do anything.\n",
      "Note that this concept is not only not present in HUnit, it is not even present in the HUnit-based process, this is the thing you try to explain in question #5.\n",
      "(c) An iterable contains the result of any task.\n",
      "If you want to show these in a more concrete manner, then just type\n",
      "(a < c? a1 : a2 : d?...)(a < c? c : d)\n",
      "(a + c ) = 0.00\n",
      "So, let's make this look like:\n",
      "(c < a? a1 : a2 :...)(a < c? c : d :...).\n",
      "There is an object which contains the two values of the last task. Since the process of deconstructing and decompressing a list has all such results, there is no need for adding anything more to that list, but there is only one possible one.\n",
      "You can see the way it works there is a recursive process happening. But as you would expect, the first step is to define the first task, so that the process is actually the same for the rest of the list it contains. Then you can see how it does that and when you end the process, when you add value or if some other information is available, you write a check that this is the correct condition for any condition and then create an HUnit to see what those conditions should look like.\n",
      "(x = x + x + x + x +...)(a + (1 + 1 + 0x0x0c )? i : i\n",
      ", y = y + x + x + (1 + x + x + 1 + x + 1 )? x, i : i ) ;\n",
      "(x >= a? y : 2fxf : 1, fxx = x, fx_ = k : fx_, y <= a? y : k : i ) ; and the result is the corresponding type of object passed to the process. This gives us the following results:\n",
      "What I'm seeing is that this is the same for the lists from question #5 (x < a? a1 : a2 :...)(a < c? a1 : a2 :...)(x < a? x : x + x + x + x +...).\n",
      "Why is this important?\n",
      "I'll be talking more about this when I get to those next parts.\n",
      "(1) A C++ implementation uses a generic list format; if you look at the definition of a generic list object format, you see that it can be either one of four forms.\n",
      "An example, of course, is a list with one element, which is a list. As you saw, a list (or many lists) must have more than one element. If that takes us to another type of list, then we need to add a new type of list (a structure) to it:\n",
      "(a < a? a1 : a2 :...)(a < a? a1 : a2 :...).\n",
      "Note: for our example this has a size variable with a type of List<list> that can be filled out with an empty list or not. So if we want the first element of a list to hold an element that would be zeroed by the iterator, we also must not leave out the element with the element that would hold all elements minus the one that would be zero\n"
     ]
    }
   ],
   "source": [
    "from langchain.prompts import PromptTemplate\n",
    "from langchain.chains import LLMChain\n",
    "from langchain.llms import HuggingFacePipeline\n",
    "from transformers import pipeline\n",
    "\n",
    "# Define the prompt template with placeholders for context and question\n",
    "prompt_template = \"Context: {context}\\nQuestion: {question}\\nAnswer:\"\n",
    "\n",
    "# Initialize the Hugging Face text generation pipeline\n",
    "model = pipeline(\n",
    "    'text-generation',\n",
    "    model='gpt2',\n",
    "    max_length=1024,  # Maximum length for input + output\n",
    "    pad_token_id=50256,  # Prevents errors for padding\n",
    ")\n",
    "\n",
    "# Wrap the Hugging Face pipeline in a HuggingFacePipeline (LangChain's Runnable)\n",
    "llm = HuggingFacePipeline(pipeline=model)\n",
    "\n",
    "# Create the prompt template\n",
    "prompt = PromptTemplate(input_variables=[\"context\", \"question\"], template=prompt_template)\n",
    "\n",
    "# Create the LLMChain with the wrapped LLM\n",
    "llm_chain = LLMChain(prompt=prompt, llm=llm)\n",
    "\n",
    "# Truncate the context to fit within the token limit\n",
    "context = \"Truncated documents context goes here...\"  # Ensure this is the actual content from `docs`\n",
    "\n",
    "# Define the input variables\n",
    "inputs = {\n",
    "    \"context\": context,  # Truncated documents context\n",
    "    \"question\": \"What is Task Decomposition?\"\n",
    "}\n",
    "\n",
    "# Run the chain\n",
    "response = llm_chain.run(context=inputs[\"context\"], question=inputs[\"question\"])\n",
    "\n",
    "print(response)\n"
   ]
  },
  {
   "cell_type": "code",
   "execution_count": null,
   "metadata": {},
   "outputs": [],
   "source": []
  }
 ],
 "metadata": {
  "kernelspec": {
   "display_name": "fusion",
   "language": "python",
   "name": "python3"
  },
  "language_info": {
   "codemirror_mode": {
    "name": "ipython",
    "version": 3
   },
   "file_extension": ".py",
   "mimetype": "text/x-python",
   "name": "python",
   "nbconvert_exporter": "python",
   "pygments_lexer": "ipython3",
   "version": "3.12.4"
  }
 },
 "nbformat": 4,
 "nbformat_minor": 2
}
